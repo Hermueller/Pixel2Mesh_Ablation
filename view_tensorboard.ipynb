{
 "cells": [
  {
   "cell_type": "code",
   "execution_count": 1,
   "id": "f1064531",
   "metadata": {},
   "outputs": [],
   "source": [
    "%load_ext tensorboard"
   ]
  },
  {
   "cell_type": "code",
   "execution_count": 4,
   "id": "ccce37a6",
   "metadata": {},
   "outputs": [],
   "source": [
    "%reload_ext tensorboard"
   ]
  },
  {
   "cell_type": "code",
   "execution_count": null,
   "id": "cc185099",
   "metadata": {},
   "outputs": [],
   "source": [
    "%tensorboard --logdir summary/depth_1class/0101114806 --host localhost"
   ]
  },
  {
   "cell_type": "code",
   "execution_count": null,
   "id": "c0471e64",
   "metadata": {},
   "outputs": [],
   "source": [
    "%tensorboard --logdir summary/vanilla_1class/0102122318 --host localhost"
   ]
  },
  {
   "cell_type": "code",
   "execution_count": 5,
   "id": "7e6b981e",
   "metadata": {},
   "outputs": [
    {
     "data": {
      "text/html": [
       "\n",
       "      <iframe id=\"tensorboard-frame-ba6344cc48437094\" width=\"100%\" height=\"800\" frameborder=\"0\">\n",
       "      </iframe>\n",
       "      <script>\n",
       "        (function() {\n",
       "          const frame = document.getElementById(\"tensorboard-frame-ba6344cc48437094\");\n",
       "          const url = new URL(\"/\", window.location);\n",
       "          const port = 6006;\n",
       "          if (port) {\n",
       "            url.port = port;\n",
       "          }\n",
       "          frame.src = url;\n",
       "        })();\n",
       "      </script>\n",
       "    "
      ],
      "text/plain": [
       "<IPython.core.display.HTML object>"
      ]
     },
     "metadata": {},
     "output_type": "display_data"
    }
   ],
   "source": [
    "%tensorboard --logdir summary/depth_1class_30ep/0104192332"
   ]
  },
  {
   "cell_type": "code",
   "execution_count": null,
   "id": "fcd38000",
   "metadata": {},
   "outputs": [],
   "source": [
    "%tensorboard --logdir summary/vanilla_1class_30ep/0105182131"
   ]
  }
 ],
 "metadata": {
  "kernelspec": {
   "display_name": "Python 3 (ipykernel)",
   "language": "python",
   "name": "python3"
  },
  "language_info": {
   "codemirror_mode": {
    "name": "ipython",
    "version": 3
   },
   "file_extension": ".py",
   "mimetype": "text/x-python",
   "name": "python",
   "nbconvert_exporter": "python",
   "pygments_lexer": "ipython3",
   "version": "3.8.10"
  }
 },
 "nbformat": 4,
 "nbformat_minor": 5
}
